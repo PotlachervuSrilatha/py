{
  "cells": [
    {
      "cell_type": "markdown",
      "id": "bf1dbcae",
      "metadata": {
        "id": "bf1dbcae"
      },
      "source": [
        "print(\"Nik\")"
      ]
    },
    {
      "cell_type": "markdown",
      "id": "155699db",
      "metadata": {
        "id": "155699db"
      },
      "source": [
        "# gdwdwqu qiqissjqiwws\n"
      ]
    },
    {
      "cell_type": "code",
      "execution_count": null,
      "id": "3b0663e4",
      "metadata": {
        "id": "3b0663e4",
        "outputId": "0287be1d-8259-4782-cf74-1c3950d88334"
      },
      "outputs": [
        {
          "name": "stdout",
          "output_type": "stream",
          "text": [
            "Nik\n"
          ]
        }
      ],
      "source": [
        "print(\"Nik\")"
      ]
    },
    {
      "cell_type": "code",
      "execution_count": null,
      "id": "4b906901",
      "metadata": {
        "id": "4b906901",
        "outputId": "267e39e7-c5e3-4550-c91d-d00585efaa55"
      },
      "outputs": [
        {
          "name": "stdout",
          "output_type": "stream",
          "text": [
            "Nik\n"
          ]
        }
      ],
      "source": [
        "print(\"Nik\")"
      ]
    },
    {
      "cell_type": "code",
      "execution_count": null,
      "id": "cdb81395",
      "metadata": {
        "id": "cdb81395",
        "outputId": "1b318cdf-1485-44a2-e6bb-5fc0e13f532e"
      },
      "outputs": [
        {
          "name": "stdout",
          "output_type": "stream",
          "text": [
            "This is Nik\n"
          ]
        }
      ],
      "source": [
        "print('This is Nik')"
      ]
    },
    {
      "cell_type": "code",
      "execution_count": null,
      "id": "46e8e7f3",
      "metadata": {
        "id": "46e8e7f3",
        "outputId": "476c0566-e42f-4e98-b9d2-0851955b335b"
      },
      "outputs": [
        {
          "name": "stdout",
          "output_type": "stream",
          "text": [
            "This \" is \" nik\n"
          ]
        }
      ],
      "source": [
        "print(\"This \\\" is\\\" nik\")"
      ]
    },
    {
      "cell_type": "code",
      "execution_count": null,
      "id": "a6df4f91",
      "metadata": {
        "id": "a6df4f91",
        "outputId": "f119bac6-4636-4b61-d028-afa3ed0f72bd"
      },
      "outputs": [
        {
          "name": "stdout",
          "output_type": "stream",
          "text": [
            "This  is  nik\n"
          ]
        }
      ],
      "source": [
        "print(\"This  is\" ,\" nik\")"
      ]
    },
    {
      "cell_type": "code",
      "execution_count": null,
      "id": "84986641",
      "metadata": {
        "id": "84986641",
        "outputId": "b4620b0e-20ee-4e7c-8ab0-24a164068a3b"
      },
      "outputs": [
        {
          "data": {
            "text/plain": [
              "5"
            ]
          },
          "execution_count": 9,
          "metadata": {},
          "output_type": "execute_result"
        }
      ],
      "source": [
        "3+2"
      ]
    },
    {
      "cell_type": "code",
      "execution_count": null,
      "id": "0ed9d109",
      "metadata": {
        "id": "0ed9d109",
        "outputId": "0db4a7be-4898-4b8e-da84-abae61947601"
      },
      "outputs": [
        {
          "name": "stdout",
          "output_type": "stream",
          "text": [
            "8\n"
          ]
        }
      ],
      "source": [
        "print(3+5)"
      ]
    },
    {
      "cell_type": "code",
      "execution_count": null,
      "id": "2a400a30",
      "metadata": {
        "id": "2a400a30",
        "outputId": "2e46e4e7-f43b-48df-feff-b84a006a6a6f"
      },
      "outputs": [
        {
          "name": "stdout",
          "output_type": "stream",
          "text": [
            "20122\n"
          ]
        }
      ],
      "source": [
        "print(12345+7777)"
      ]
    },
    {
      "cell_type": "code",
      "execution_count": null,
      "id": "45bc2252",
      "metadata": {
        "id": "45bc2252",
        "outputId": "47b5adde-510e-4cb9-8415-1c6228d22c2c"
      },
      "outputs": [
        {
          "name": "stdout",
          "output_type": "stream",
          "text": [
            "sss34*(@\n"
          ]
        }
      ],
      "source": [
        "print(\"sss34*(@\")"
      ]
    },
    {
      "cell_type": "code",
      "execution_count": null,
      "id": "622ab2bb",
      "metadata": {
        "id": "622ab2bb",
        "outputId": "e06f403a-a74e-4e65-f7dc-0b4c49e1cd1c"
      },
      "outputs": [
        {
          "name": "stdout",
          "output_type": "stream",
          "text": [
            "&&&&\n"
          ]
        }
      ],
      "source": [
        "print('&&&&')"
      ]
    },
    {
      "cell_type": "code",
      "execution_count": null,
      "id": "820b7da6",
      "metadata": {
        "id": "820b7da6",
        "outputId": "cc993d37-cc1f-428e-f3d5-5b70f2a2e3dd"
      },
      "outputs": [
        {
          "name": "stdout",
          "output_type": "stream",
          "text": [
            "Nik Jain\n"
          ]
        }
      ],
      "source": [
        "print(\"Nik\"+\" Jain\")"
      ]
    },
    {
      "cell_type": "code",
      "execution_count": null,
      "id": "034037d9",
      "metadata": {
        "id": "034037d9",
        "outputId": "b6f79576-af68-41d1-9566-68d69bf6eee8"
      },
      "outputs": [
        {
          "name": "stdout",
          "output_type": "stream",
          "text": [
            "Nik\n"
          ]
        }
      ],
      "source": [
        "print(\"Nik\")"
      ]
    },
    {
      "cell_type": "code",
      "execution_count": null,
      "id": "eb91521d",
      "metadata": {
        "id": "eb91521d",
        "outputId": "9f60cc57-fd42-4dbc-9e40-19358c561c66"
      },
      "outputs": [
        {
          "name": "stdout",
          "output_type": "stream",
          "text": [
            "8\n"
          ]
        }
      ],
      "source": [
        "print(2*4)"
      ]
    },
    {
      "cell_type": "code",
      "execution_count": null,
      "id": "9712bcbd",
      "metadata": {
        "scrolled": true,
        "id": "9712bcbd",
        "outputId": "44cef552-82c8-4bd4-eedc-3caed9aaa89e"
      },
      "outputs": [
        {
          "name": "stdout",
          "output_type": "stream",
          "text": [
            "0.3333333333333333\n"
          ]
        }
      ],
      "source": [
        "print(3/9)"
      ]
    },
    {
      "cell_type": "code",
      "execution_count": null,
      "id": "85371b60",
      "metadata": {
        "id": "85371b60",
        "outputId": "2731c976-d467-464c-cdf1-85dd3939b00f"
      },
      "outputs": [
        {
          "name": "stdout",
          "output_type": "stream",
          "text": [
            "Nikanksha\n"
          ]
        }
      ],
      "source": [
        "a=\"Nikanksha\"\n",
        "print(a)"
      ]
    },
    {
      "cell_type": "code",
      "execution_count": null,
      "id": "d737ea66",
      "metadata": {
        "id": "d737ea66",
        "outputId": "c4a45b4b-cf94-4511-ed73-c21335376bac"
      },
      "outputs": [
        {
          "name": "stdout",
          "output_type": "stream",
          "text": [
            "123\n"
          ]
        }
      ],
      "source": [
        "a=123\n",
        "print(a)"
      ]
    },
    {
      "cell_type": "code",
      "execution_count": null,
      "id": "772aced8",
      "metadata": {
        "id": "772aced8",
        "outputId": "a6f47ad6-5502-4bbe-bb46-1ade2668206d"
      },
      "outputs": [
        {
          "name": "stdout",
          "output_type": "stream",
          "text": [
            "357\n"
          ]
        }
      ],
      "source": [
        "a=123\n",
        "b=234\n",
        "print(a+b)"
      ]
    },
    {
      "cell_type": "code",
      "execution_count": null,
      "id": "8e939c82",
      "metadata": {
        "id": "8e939c82",
        "outputId": "6961990b-542c-426a-e99c-0d4310e6a3d9"
      },
      "outputs": [
        {
          "name": "stdout",
          "output_type": "stream",
          "text": [
            "45\n"
          ]
        }
      ],
      "source": [
        "_a=45\n",
        "print(_a)"
      ]
    },
    {
      "cell_type": "code",
      "execution_count": null,
      "id": "af6d5bc1",
      "metadata": {
        "id": "af6d5bc1",
        "outputId": "3cafc87f-28fb-4e00-9835-fdeb18a41596"
      },
      "outputs": [
        {
          "name": "stdout",
          "output_type": "stream",
          "text": [
            "45\n"
          ]
        }
      ],
      "source": [
        "a_=45\n",
        "print(a_)"
      ]
    },
    {
      "cell_type": "code",
      "execution_count": null,
      "id": "ce5dfe0b",
      "metadata": {
        "id": "ce5dfe0b",
        "outputId": "bf331f35-0262-4670-deb9-986fdb2a44c3"
      },
      "outputs": [
        {
          "name": "stdout",
          "output_type": "stream",
          "text": [
            "Nik\n"
          ]
        }
      ],
      "source": [
        "first_Name=\"Nik\"\n",
        "print(First_Name)"
      ]
    },
    {
      "cell_type": "code",
      "execution_count": null,
      "id": "1472f85a",
      "metadata": {
        "id": "1472f85a",
        "outputId": "37ceda9d-55da-4dbe-e332-5f6910aa92c3"
      },
      "outputs": [
        {
          "name": "stdout",
          "output_type": "stream",
          "text": [
            "Nik\n"
          ]
        }
      ],
      "source": [
        "first_Name=\"Nik\"\n",
        "print(First_Name)"
      ]
    },
    {
      "cell_type": "code",
      "execution_count": null,
      "id": "a3e9cb6a",
      "metadata": {
        "id": "a3e9cb6a",
        "outputId": "c57fba8a-bf36-4591-9a32-1d3783d6ede3"
      },
      "outputs": [
        {
          "ename": "NameError",
          "evalue": "name 'First_name1' is not defined",
          "output_type": "error",
          "traceback": [
            "\u001b[1;31m---------------------------------------------------------------------------\u001b[0m",
            "\u001b[1;31mNameError\u001b[0m                                 Traceback (most recent call last)",
            "Input \u001b[1;32mIn [35]\u001b[0m, in \u001b[0;36m<cell line: 2>\u001b[1;34m()\u001b[0m\n\u001b[0;32m      1\u001b[0m first_Name1\u001b[38;5;241m=\u001b[39m\u001b[38;5;124m\"\u001b[39m\u001b[38;5;124mnik\u001b[39m\u001b[38;5;124m\"\u001b[39m\n\u001b[1;32m----> 2\u001b[0m \u001b[38;5;28mprint\u001b[39m(\u001b[43mFirst_name1\u001b[49m)\n",
            "\u001b[1;31mNameError\u001b[0m: name 'First_name1' is not defined"
          ]
        }
      ],
      "source": [
        "first_Name1=\"nik\"\n",
        "print(First_name1)"
      ]
    },
    {
      "cell_type": "code",
      "execution_count": null,
      "id": "787fa347",
      "metadata": {
        "id": "787fa347",
        "outputId": "9ec79366-359a-41b6-a9d2-21168ffa9e5e"
      },
      "outputs": [
        {
          "ename": "SyntaxError",
          "evalue": "cannot assign to literal (180105977.py, line 1)",
          "output_type": "error",
          "traceback": [
            "\u001b[1;36m  Input \u001b[1;32mIn [38]\u001b[1;36m\u001b[0m\n\u001b[1;33m    123=123\u001b[0m\n\u001b[1;37m    ^\u001b[0m\n\u001b[1;31mSyntaxError\u001b[0m\u001b[1;31m:\u001b[0m cannot assign to literal\n"
          ]
        }
      ],
      "source": [
        "123=123\n",
        "print(a123)"
      ]
    },
    {
      "cell_type": "code",
      "execution_count": null,
      "id": "1e1c43d9",
      "metadata": {
        "id": "1e1c43d9",
        "outputId": "57720321-db93-4f11-ec2e-d69c64894db1"
      },
      "outputs": [
        {
          "ename": "SyntaxError",
          "evalue": "invalid syntax (854805185.py, line 1)",
          "output_type": "error",
          "traceback": [
            "\u001b[1;36m  Input \u001b[1;32mIn [37]\u001b[1;36m\u001b[0m\n\u001b[1;33m    123a=123\u001b[0m\n\u001b[1;37m       ^\u001b[0m\n\u001b[1;31mSyntaxError\u001b[0m\u001b[1;31m:\u001b[0m invalid syntax\n"
          ]
        }
      ],
      "source": [
        "123a=123\n",
        "print(123a)"
      ]
    },
    {
      "cell_type": "code",
      "execution_count": null,
      "id": "7ad07205",
      "metadata": {
        "id": "7ad07205"
      },
      "outputs": [],
      "source": [
        "a163=123\n"
      ]
    },
    {
      "cell_type": "code",
      "execution_count": null,
      "id": "d82d70fb",
      "metadata": {
        "id": "d82d70fb",
        "outputId": "8cd4211a-81eb-4b41-c2aa-8ae5d6fdd994"
      },
      "outputs": [
        {
          "name": "stdout",
          "output_type": "stream",
          "text": [
            "123\n"
          ]
        }
      ],
      "source": [
        "print(a163)"
      ]
    },
    {
      "cell_type": "code",
      "execution_count": null,
      "id": "6c0c73c5",
      "metadata": {
        "id": "6c0c73c5",
        "outputId": "3e291d67-3ef9-41db-f335-986da1f4dae3"
      },
      "outputs": [
        {
          "data": {
            "text/plain": [
              "False"
            ]
          },
          "execution_count": 50,
          "metadata": {},
          "output_type": "execute_result"
        }
      ],
      "source": [
        "a163==163"
      ]
    },
    {
      "cell_type": "code",
      "execution_count": null,
      "id": "3ab0f4f8",
      "metadata": {
        "id": "3ab0f4f8",
        "outputId": "ccd2a289-1dba-43ab-98be-39a54da79bcc"
      },
      "outputs": [
        {
          "name": "stdout",
          "output_type": "stream",
          "text": [
            "123\n"
          ]
        }
      ],
      "source": [
        "a=123\n",
        "print(a)"
      ]
    },
    {
      "cell_type": "code",
      "execution_count": null,
      "id": "97284bfb",
      "metadata": {
        "id": "97284bfb"
      },
      "outputs": [],
      "source": [
        "a153=153"
      ]
    },
    {
      "cell_type": "code",
      "execution_count": null,
      "id": "5b85b959",
      "metadata": {
        "id": "5b85b959",
        "outputId": "7a9e3f8d-672a-43b3-a02e-ce0541c8adfb"
      },
      "outputs": [
        {
          "data": {
            "text/plain": [
              "True"
            ]
          },
          "execution_count": 56,
          "metadata": {},
          "output_type": "execute_result"
        }
      ],
      "source": [
        "a153==153# 153==153"
      ]
    },
    {
      "cell_type": "code",
      "execution_count": null,
      "id": "f1729285",
      "metadata": {
        "id": "f1729285",
        "outputId": "2268ec23-98e0-4e32-d155-0d95e9f6c060"
      },
      "outputs": [
        {
          "name": "stdout",
          "output_type": "stream",
          "text": [
            "12\n"
          ]
        }
      ],
      "source": [
        "aA=12\n",
        "print(aA)"
      ]
    },
    {
      "cell_type": "code",
      "execution_count": null,
      "id": "c22b1423",
      "metadata": {
        "id": "c22b1423",
        "outputId": "e0d7ab41-2016-4828-d13a-2142de181ded"
      },
      "outputs": [
        {
          "ename": "SyntaxError",
          "evalue": "invalid syntax (368421174.py, line 1)",
          "output_type": "error",
          "traceback": [
            "\u001b[1;36m  Input \u001b[1;32mIn [60]\u001b[1;36m\u001b[0m\n\u001b[1;33m    a u =12\u001b[0m\n\u001b[1;37m      ^\u001b[0m\n\u001b[1;31mSyntaxError\u001b[0m\u001b[1;31m:\u001b[0m invalid syntax\n"
          ]
        }
      ],
      "source": [
        "a u =12\n",
        "print(a u)"
      ]
    },
    {
      "cell_type": "code",
      "execution_count": null,
      "id": "775a1556",
      "metadata": {
        "id": "775a1556",
        "outputId": "1194bc5d-b42c-4281-ab21-b86d3ce815e2"
      },
      "outputs": [
        {
          "name": "stdout",
          "output_type": "stream",
          "text": [
            "12\n"
          ]
        }
      ],
      "source": [
        "a_u =12\n",
        "print(a_u)"
      ]
    },
    {
      "cell_type": "code",
      "execution_count": null,
      "id": "1fc76797",
      "metadata": {
        "id": "1fc76797",
        "outputId": "3d72e91d-4415-4acb-ee01-4726dc0d80f0"
      },
      "outputs": [
        {
          "name": "stdout",
          "output_type": "stream",
          "text": [
            "12\n"
          ]
        }
      ],
      "source": [
        "aU =12\n",
        "print(aU)"
      ]
    },
    {
      "cell_type": "code",
      "execution_count": null,
      "id": "a6afc88e",
      "metadata": {
        "id": "a6afc88e",
        "outputId": "fd907520-5850-4ce8-bc0b-6a06f68d94da"
      },
      "outputs": [
        {
          "name": "stdout",
          "output_type": "stream",
          "text": [
            "12\n"
          ]
        }
      ],
      "source": [
        "au =12\n",
        "print(au)"
      ]
    },
    {
      "cell_type": "code",
      "execution_count": null,
      "id": "f63274eb",
      "metadata": {
        "id": "f63274eb",
        "outputId": "9305b99a-ff9e-4683-ead2-8c27d32081db"
      },
      "outputs": [
        {
          "name": "stdout",
          "output_type": "stream",
          "text": [
            "Nikanksha Jain\n"
          ]
        }
      ],
      "source": [
        "g=\"Nikanksha Jain\"\n",
        "print(g)"
      ]
    },
    {
      "cell_type": "code",
      "execution_count": null,
      "id": "c23914bd",
      "metadata": {
        "id": "c23914bd",
        "outputId": "c0ad20da-a831-45f8-f656-1747f7b08db6"
      },
      "outputs": [
        {
          "name": "stdout",
          "output_type": "stream",
          "text": [
            "10\n"
          ]
        }
      ],
      "source": [
        "a=10\n",
        "print(a)"
      ]
    },
    {
      "cell_type": "code",
      "execution_count": null,
      "id": "be6ecb74",
      "metadata": {
        "id": "be6ecb74",
        "outputId": "9395ec13-ac07-4ee1-8451-b40650240b2e"
      },
      "outputs": [
        {
          "name": "stdout",
          "output_type": "stream",
          "text": [
            "<class 'int'>\n"
          ]
        }
      ],
      "source": [
        "\n",
        "print(type(a))"
      ]
    },
    {
      "cell_type": "code",
      "execution_count": null,
      "id": "2d86fcf3",
      "metadata": {
        "id": "2d86fcf3",
        "outputId": "be666043-8040-4e2f-f11d-a39a970f1517"
      },
      "outputs": [
        {
          "name": "stdout",
          "output_type": "stream",
          "text": [
            "12.2\n"
          ]
        }
      ],
      "source": [
        "a=12.2\n",
        "print(a)"
      ]
    },
    {
      "cell_type": "code",
      "execution_count": null,
      "id": "9a9249bc",
      "metadata": {
        "id": "9a9249bc",
        "outputId": "be250ab2-57f5-4046-8cea-5d92219a3ee4"
      },
      "outputs": [
        {
          "name": "stdout",
          "output_type": "stream",
          "text": [
            "2594842103344\n"
          ]
        },
        {
          "data": {
            "text/plain": [
              "2296675733936"
            ]
          },
          "execution_count": 3,
          "metadata": {},
          "output_type": "execute_result"
        }
      ],
      "source": [
        "print(id(a))\n",
        "2296675733936"
      ]
    },
    {
      "cell_type": "code",
      "execution_count": null,
      "id": "b8019469",
      "metadata": {
        "id": "b8019469",
        "outputId": "9a6ec2c5-6c9b-41d8-b559-d6e3512249e6"
      },
      "outputs": [
        {
          "name": "stdout",
          "output_type": "stream",
          "text": [
            "<class 'float'>\n"
          ]
        }
      ],
      "source": [
        "print(type(a))"
      ]
    },
    {
      "cell_type": "code",
      "execution_count": null,
      "id": "e006849f",
      "metadata": {
        "id": "e006849f",
        "outputId": "63ac433e-9a01-40f4-a845-6560d904a3f6"
      },
      "outputs": [
        {
          "name": "stdout",
          "output_type": "stream",
          "text": [
            "# This is Nik_Jain123 #\n",
            "<class 'str'>\n"
          ]
        }
      ],
      "source": [
        "a=\"# This is Nik_Jain123 #\"\n",
        "print(a)\n",
        "print(type(a))"
      ]
    },
    {
      "cell_type": "code",
      "execution_count": null,
      "id": "1843ff34",
      "metadata": {
        "id": "1843ff34",
        "outputId": "ede8b1c3-3c6a-4b70-83b2-eab3e907c8d2"
      },
      "outputs": [
        {
          "ename": "NameError",
          "evalue": "name 'a' is not defined",
          "output_type": "error",
          "traceback": [
            "\u001b[1;31m---------------------------------------------------------------------------\u001b[0m",
            "\u001b[1;31mNameError\u001b[0m                                 Traceback (most recent call last)",
            "Input \u001b[1;32mIn [15]\u001b[0m, in \u001b[0;36m<cell line: 1>\u001b[1;34m()\u001b[0m\n\u001b[1;32m----> 1\u001b[0m \u001b[38;5;28;01mdel\u001b[39;00m a\n",
            "\u001b[1;31mNameError\u001b[0m: name 'a' is not defined"
          ]
        }
      ],
      "source": [
        "del a"
      ]
    },
    {
      "cell_type": "code",
      "execution_count": null,
      "id": "65fce0ed",
      "metadata": {
        "id": "65fce0ed",
        "outputId": "76b6df66-b387-4f4a-d788-5e029e17384d"
      },
      "outputs": [
        {
          "ename": "NameError",
          "evalue": "name 'a' is not defined",
          "output_type": "error",
          "traceback": [
            "\u001b[1;31m---------------------------------------------------------------------------\u001b[0m",
            "\u001b[1;31mNameError\u001b[0m                                 Traceback (most recent call last)",
            "Input \u001b[1;32mIn [14]\u001b[0m, in \u001b[0;36m<cell line: 1>\u001b[1;34m()\u001b[0m\n\u001b[1;32m----> 1\u001b[0m \u001b[38;5;28mprint\u001b[39m(\u001b[43ma\u001b[49m)\n",
            "\u001b[1;31mNameError\u001b[0m: name 'a' is not defined"
          ]
        }
      ],
      "source": [
        "print(a)"
      ]
    },
    {
      "cell_type": "code",
      "execution_count": null,
      "id": "0a8e72be",
      "metadata": {
        "id": "0a8e72be",
        "outputId": "92ba001e-5bf1-4ae4-a441-64f1a2948b03"
      },
      "outputs": [
        {
          "name": "stdout",
          "output_type": "stream",
          "text": [
            "-3.254e+101\n"
          ]
        }
      ],
      "source": [
        "b= -32.54e100\n",
        "\n",
        "print(b)"
      ]
    },
    {
      "cell_type": "code",
      "execution_count": null,
      "id": "2b380ce2",
      "metadata": {
        "id": "2b380ce2",
        "outputId": "a338812c-57ab-460f-e332-a65bae8e013d"
      },
      "outputs": [
        {
          "data": {
            "text/plain": [
              "float"
            ]
          },
          "execution_count": 29,
          "metadata": {},
          "output_type": "execute_result"
        }
      ],
      "source": [
        "type(b)"
      ]
    },
    {
      "cell_type": "code",
      "execution_count": null,
      "id": "9c397f28",
      "metadata": {
        "id": "9c397f28"
      },
      "outputs": [],
      "source": [
        "c=3.14j"
      ]
    },
    {
      "cell_type": "code",
      "execution_count": null,
      "id": "9375c937",
      "metadata": {
        "id": "9375c937",
        "outputId": "560ad4d1-82d8-4aeb-e9b9-ea6547f498e5"
      },
      "outputs": [
        {
          "name": "stdout",
          "output_type": "stream",
          "text": [
            "3.14j\n"
          ]
        }
      ],
      "source": [
        "print(c)"
      ]
    },
    {
      "cell_type": "code",
      "execution_count": null,
      "id": "11090297",
      "metadata": {
        "id": "11090297",
        "outputId": "5ae60b6e-9d6f-4b2b-aa33-d9098207e736"
      },
      "outputs": [
        {
          "name": "stdout",
          "output_type": "stream",
          "text": [
            "<class 'complex'>\n"
          ]
        }
      ],
      "source": [
        "print(type(c))"
      ]
    },
    {
      "cell_type": "code",
      "execution_count": null,
      "id": "69dbd399",
      "metadata": {
        "id": "69dbd399"
      },
      "outputs": [],
      "source": [
        "d=\"hello world!\" a[6:11]"
      ]
    },
    {
      "cell_type": "code",
      "execution_count": null,
      "id": "e6021cc9",
      "metadata": {
        "id": "e6021cc9",
        "outputId": "c44326e4-eff6-481d-b7db-466f03053db5"
      },
      "outputs": [
        {
          "name": "stdout",
          "output_type": "stream",
          "text": [
            "<class 'str'>\n"
          ]
        }
      ],
      "source": [
        "print(type(d))"
      ]
    },
    {
      "cell_type": "code",
      "execution_count": null,
      "id": "2cfe03ad",
      "metadata": {
        "id": "2cfe03ad",
        "outputId": "efa72d9e-b308-42d0-b8ba-a4b48c8e3e63"
      },
      "outputs": [
        {
          "name": "stdout",
          "output_type": "stream",
          "text": [
            "h\n"
          ]
        }
      ],
      "source": [
        "print(d[0])"
      ]
    },
    {
      "cell_type": "code",
      "execution_count": null,
      "id": "875fdd2f",
      "metadata": {
        "id": "875fdd2f",
        "outputId": "a136aeea-01fb-4072-c1d9-479fc4a10c06"
      },
      "outputs": [
        {
          "name": "stdout",
          "output_type": "stream",
          "text": [
            "12\n"
          ]
        }
      ],
      "source": [
        "print(len(d))"
      ]
    },
    {
      "cell_type": "code",
      "execution_count": null,
      "id": "ff7f71e3",
      "metadata": {
        "id": "ff7f71e3",
        "outputId": "32107333-354e-4ac4-85eb-9e5aef3b0aa7"
      },
      "outputs": [
        {
          "name": "stdout",
          "output_type": "stream",
          "text": [
            "w\n"
          ]
        }
      ],
      "source": [
        "print(d[6])"
      ]
    },
    {
      "cell_type": "code",
      "execution_count": null,
      "id": "e7858df8",
      "metadata": {
        "id": "e7858df8",
        "outputId": "f755db7d-fd0d-49ac-894d-5c569d0517bd"
      },
      "outputs": [
        {
          "name": "stdout",
          "output_type": "stream",
          "text": [
            "ello w\n"
          ]
        }
      ],
      "source": [
        "print(d[1:7])"
      ]
    },
    {
      "cell_type": "code",
      "execution_count": null,
      "id": "b20d69d2",
      "metadata": {
        "id": "b20d69d2",
        "outputId": "3631186e-21c7-46fc-b6fd-bfb9e65a29b9"
      },
      "outputs": [
        {
          "name": "stdout",
          "output_type": "stream",
          "text": [
            "orld\n",
            "orld!\n",
            "world!\n",
            "\n",
            "world!\n",
            "world\n"
          ]
        }
      ],
      "source": [
        "print(d[7:11])\n",
        "print(d[7:12])\n",
        "print(d[6:])\n",
        "print(d[7:5])\n",
        "print(d[6:12])\n",
        "print(d[6:11])"
      ]
    },
    {
      "cell_type": "code",
      "execution_count": null,
      "id": "89d9078b",
      "metadata": {
        "id": "89d9078b"
      },
      "outputs": [],
      "source": []
    },
    {
      "cell_type": "code",
      "execution_count": null,
      "id": "06c2e7f4",
      "metadata": {
        "id": "06c2e7f4",
        "outputId": "1692f698-4dfe-465c-9b67-e0e558964a1d"
      },
      "outputs": [
        {
          "name": "stdout",
          "output_type": "stream",
          "text": [
            "MY Excelr\n"
          ]
        }
      ],
      "source": [
        "f=\"&MY Excelr&\"\n",
        "print(f[1:-1])"
      ]
    },
    {
      "cell_type": "code",
      "execution_count": null,
      "id": "91f60dab",
      "metadata": {
        "id": "91f60dab",
        "outputId": "b992878b-c801-4526-eebb-f053b1e6c7e9"
      },
      "outputs": [
        {
          "name": "stdout",
          "output_type": "stream",
          "text": [
            " Excelr&\n"
          ]
        }
      ],
      "source": [
        "print(f[3::])"
      ]
    },
    {
      "cell_type": "code",
      "execution_count": null,
      "id": "246e50d4",
      "metadata": {
        "id": "246e50d4",
        "outputId": "cc5fae6c-d8e6-41a3-8fcf-bd4b078da4d8"
      },
      "outputs": [
        {
          "name": "stdout",
          "output_type": "stream",
          "text": [
            "cel\n"
          ]
        }
      ],
      "source": [
        "print(f[-5:-2])"
      ]
    },
    {
      "cell_type": "code",
      "execution_count": null,
      "id": "5bd1488c",
      "metadata": {
        "id": "5bd1488c",
        "outputId": "319c68ff-b742-46a3-b056-d39347e533fa"
      },
      "outputs": [
        {
          "name": "stdout",
          "output_type": "stream",
          "text": [
            "r\n"
          ]
        }
      ],
      "source": [
        "print(f[-2])"
      ]
    },
    {
      "cell_type": "code",
      "execution_count": null,
      "id": "b31c0ab3",
      "metadata": {
        "id": "b31c0ab3",
        "outputId": "fb55bc3d-778a-4ead-ece4-1daf213b7e89"
      },
      "outputs": [
        {
          "name": "stdout",
          "output_type": "stream",
          "text": [
            "&MY Excelr&\n",
            "Exc\n"
          ]
        }
      ],
      "source": [
        "  #012345678910\n",
        "p=\"&MY Excelr&\"\n",
        "  #1234567891011\n",
        "print(p)\n",
        "  #-11-10-9-8-7-6-5-4-3-2-1\n",
        "print(p[4:7])"
      ]
    },
    {
      "cell_type": "code",
      "execution_count": null,
      "id": "335fc05f",
      "metadata": {
        "id": "335fc05f",
        "outputId": "ee828d5f-eb3b-418a-ce9c-5e983e8c999c"
      },
      "outputs": [
        {
          "name": "stdout",
          "output_type": "stream",
          "text": [
            "&MY E\n"
          ]
        }
      ],
      "source": [
        "print(p[:5])"
      ]
    },
    {
      "cell_type": "code",
      "execution_count": null,
      "id": "be5c6d70",
      "metadata": {
        "scrolled": true,
        "id": "be5c6d70",
        "outputId": "ada64af5-a532-4947-f64f-23a6be4d1565"
      },
      "outputs": [
        {
          "data": {
            "text/plain": [
              "False"
            ]
          },
          "execution_count": 99,
          "metadata": {},
          "output_type": "execute_result"
        }
      ],
      "source": [
        "a=123\n",
        "b=1231\n",
        "a==b"
      ]
    },
    {
      "cell_type": "code",
      "execution_count": null,
      "id": "1afa3a60",
      "metadata": {
        "id": "1afa3a60",
        "outputId": "ca4a8505-0140-4dae-b59c-01d53c5e66fc"
      },
      "outputs": [
        {
          "name": "stdout",
          "output_type": "stream",
          "text": [
            "False\n"
          ]
        }
      ],
      "source": [
        "print(b>a)"
      ]
    },
    {
      "cell_type": "code",
      "execution_count": null,
      "id": "2eadae6f",
      "metadata": {
        "id": "2eadae6f",
        "outputId": "a4b4db1a-8592-4723-ac86-4f7ee129f7a6"
      },
      "outputs": [
        {
          "name": "stdout",
          "output_type": "stream",
          "text": [
            "True\n"
          ]
        }
      ],
      "source": [
        "print(b>=a)"
      ]
    },
    {
      "cell_type": "code",
      "execution_count": null,
      "id": "e1ab8edc",
      "metadata": {
        "id": "e1ab8edc",
        "outputId": "df9989db-1ac6-46f0-e73f-106e69ba4f05"
      },
      "outputs": [
        {
          "name": "stdout",
          "output_type": "stream",
          "text": [
            "False\n"
          ]
        }
      ],
      "source": [
        "print(b!=a)"
      ]
    },
    {
      "cell_type": "code",
      "execution_count": null,
      "id": "ccdccbb0",
      "metadata": {
        "id": "ccdccbb0",
        "outputId": "d737edad-80c3-4b6a-ad9f-cffc6aa2b402"
      },
      "outputs": [
        {
          "name": "stdout",
          "output_type": "stream",
          "text": [
            "9\n"
          ]
        }
      ],
      "source": [
        "a=2\n",
        "b=3\n",
        "print(pow(b,a))"
      ]
    },
    {
      "cell_type": "code",
      "execution_count": null,
      "id": "8d1f2484",
      "metadata": {
        "id": "8d1f2484",
        "outputId": "022c55aa-c2f5-467a-a221-f1d035348519"
      },
      "outputs": [
        {
          "name": "stdout",
          "output_type": "stream",
          "text": [
            "2\n"
          ]
        }
      ],
      "source": [
        "print(min(b,a))"
      ]
    },
    {
      "cell_type": "code",
      "execution_count": null,
      "id": "3161318e",
      "metadata": {
        "id": "3161318e",
        "outputId": "125141db-31c1-4e4a-9721-808c0141a24c"
      },
      "outputs": [
        {
          "name": "stdout",
          "output_type": "stream",
          "text": [
            "3\n"
          ]
        }
      ],
      "source": [
        "print(max(b,a))"
      ]
    },
    {
      "cell_type": "code",
      "execution_count": null,
      "id": "23cd06a9",
      "metadata": {
        "id": "23cd06a9",
        "outputId": "1959ca20-373c-4382-9646-99f17f0cf0d3"
      },
      "outputs": [
        {
          "name": "stdout",
          "output_type": "stream",
          "text": [
            "10.4444\n"
          ]
        }
      ],
      "source": [
        "c=10.4444\n",
        "print(abs(c))"
      ]
    },
    {
      "cell_type": "code",
      "execution_count": null,
      "id": "13999499",
      "metadata": {
        "id": "13999499",
        "outputId": "13563d3e-1b8e-467b-d81c-6f10a7e34458"
      },
      "outputs": [
        {
          "name": "stdout",
          "output_type": "stream",
          "text": [
            "-10\n"
          ]
        }
      ],
      "source": [
        "print(round(c))"
      ]
    },
    {
      "cell_type": "code",
      "execution_count": null,
      "id": "ea8e1cf1",
      "metadata": {
        "id": "ea8e1cf1",
        "outputId": "6cd0164b-d37a-4447-b5ce-a26955f3ce66"
      },
      "outputs": [
        {
          "name": "stdout",
          "output_type": "stream",
          "text": [
            "10\n"
          ]
        }
      ],
      "source": [
        "c=-10\n",
        "print(abs(c))"
      ]
    },
    {
      "cell_type": "code",
      "execution_count": null,
      "id": "e5908c28",
      "metadata": {
        "id": "e5908c28",
        "outputId": "3f0c2b27-deab-4373-8de9-80e9fcd40c32"
      },
      "outputs": [
        {
          "name": "stdout",
          "output_type": "stream",
          "text": [
            "<class 'str'>\n",
            "<class 'int'>\n",
            "<class 'float'>\n",
            "25.5\n"
          ]
        }
      ],
      "source": [
        "a=\"12\"\n",
        "print(type(a))\n",
        "c=int(a)\n",
        "print(type(c))\n",
        "b=13.5\n",
        "print(type(b))\n",
        "print(b+c)"
      ]
    },
    {
      "cell_type": "code",
      "execution_count": null,
      "id": "eee15512",
      "metadata": {
        "id": "eee15512"
      },
      "outputs": [],
      "source": [
        "# * +"
      ]
    },
    {
      "cell_type": "code",
      "execution_count": null,
      "id": "5174664f",
      "metadata": {
        "id": "5174664f",
        "outputId": "d5a1e31c-38a7-4f61-9a22-06238408166f"
      },
      "outputs": [
        {
          "name": "stdout",
          "output_type": "stream",
          "text": [
            "NikankshaJain\n"
          ]
        }
      ],
      "source": [
        "a=\"Nikanksha\"\n",
        "b=\"Jain\"\n",
        "print(a+b)"
      ]
    },
    {
      "cell_type": "code",
      "execution_count": null,
      "id": "d5c07b4b",
      "metadata": {
        "id": "d5c07b4b",
        "outputId": "a7e846aa-f3c5-4d66-8af0-7df977169472"
      },
      "outputs": [
        {
          "name": "stdout",
          "output_type": "stream",
          "text": [
            "Nikanksha Nikanksha Nikanksha Nikanksha \n"
          ]
        }
      ],
      "source": [
        "a=\"Nikanksha \"\n",
        "print(a*4)"
      ]
    },
    {
      "cell_type": "code",
      "execution_count": null,
      "id": "ed8f06a3",
      "metadata": {
        "id": "ed8f06a3"
      },
      "outputs": [],
      "source": [
        "\n"
      ]
    },
    {
      "cell_type": "code",
      "execution_count": null,
      "id": "400ef7a7",
      "metadata": {
        "id": "400ef7a7"
      },
      "outputs": [],
      "source": [
        "\n"
      ]
    },
    {
      "cell_type": "code",
      "execution_count": null,
      "id": "47738f9b",
      "metadata": {
        "id": "47738f9b"
      },
      "outputs": [],
      "source": [
        "k = complex(2, 3)"
      ]
    },
    {
      "cell_type": "code",
      "execution_count": null,
      "id": "b0b56708",
      "metadata": {
        "id": "b0b56708",
        "outputId": "393bcd30-bb9f-4a13-e593-e41af023c549"
      },
      "outputs": [
        {
          "name": "stdout",
          "output_type": "stream",
          "text": [
            "(2+3j)\n"
          ]
        }
      ],
      "source": [
        "print(k)"
      ]
    },
    {
      "cell_type": "code",
      "execution_count": null,
      "id": "935bee04",
      "metadata": {
        "id": "935bee04",
        "outputId": "882a8014-7b66-4339-ddbd-4043d62de683"
      },
      "outputs": [
        {
          "data": {
            "text/plain": [
              "True"
            ]
          },
          "execution_count": 131,
          "metadata": {},
          "output_type": "execute_result"
        }
      ],
      "source": [
        "4/(3*(2-1))== 4/3*(2-1)"
      ]
    },
    {
      "cell_type": "code",
      "execution_count": null,
      "id": "7329c05f",
      "metadata": {
        "id": "7329c05f"
      },
      "outputs": [],
      "source": [
        "x = int(43.55+2/2)"
      ]
    },
    {
      "cell_type": "code",
      "execution_count": null,
      "id": "591d7ef6",
      "metadata": {
        "id": "591d7ef6",
        "outputId": "1cd0bfff-ee65-4325-84ce-5e6ebbdeabe5"
      },
      "outputs": [
        {
          "name": "stdout",
          "output_type": "stream",
          "text": [
            "44\n"
          ]
        }
      ],
      "source": [
        "print(x)"
      ]
    },
    {
      "cell_type": "code",
      "execution_count": null,
      "id": "6771a2ba",
      "metadata": {
        "id": "6771a2ba"
      },
      "outputs": [],
      "source": []
    }
  ],
  "metadata": {
    "kernelspec": {
      "display_name": "Python 3 (ipykernel)",
      "language": "python",
      "name": "python3"
    },
    "language_info": {
      "codemirror_mode": {
        "name": "ipython",
        "version": 3
      },
      "file_extension": ".py",
      "mimetype": "text/x-python",
      "name": "python",
      "nbconvert_exporter": "python",
      "pygments_lexer": "ipython3",
      "version": "3.9.12"
    },
    "colab": {
      "provenance": []
    }
  },
  "nbformat": 4,
  "nbformat_minor": 5
}