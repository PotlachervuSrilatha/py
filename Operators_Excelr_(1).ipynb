{
  "cells": [
    {
      "cell_type": "code",
      "execution_count": null,
      "id": "ed1f1a37",
      "metadata": {
        "id": "ed1f1a37",
        "outputId": "fc3627c1-c178-4ee4-c709-e98fb029323a"
      },
      "outputs": [
        {
          "name": "stdout",
          "output_type": "stream",
          "text": [
            "inf\n"
          ]
        }
      ],
      "source": [
        "a=float('inf')\n",
        "print(a)"
      ]
    },
    {
      "cell_type": "code",
      "execution_count": null,
      "id": "8755e6e4",
      "metadata": {
        "id": "8755e6e4",
        "outputId": "a9f292b2-1fe3-4d5e-beb1-990cf93ea1ef"
      },
      "outputs": [
        {
          "data": {
            "text/plain": [
              "nan"
            ]
          },
          "execution_count": 2,
          "metadata": {},
          "output_type": "execute_result"
        }
      ],
      "source": [
        "float('nan')"
      ]
    },
    {
      "cell_type": "code",
      "execution_count": null,
      "id": "dfe151ad",
      "metadata": {
        "id": "dfe151ad",
        "outputId": "280a7456-f4c3-4fcf-cc29-ddce287177d1"
      },
      "outputs": [
        {
          "data": {
            "text/plain": [
              "5678.0"
            ]
          },
          "execution_count": 3,
          "metadata": {},
          "output_type": "execute_result"
        }
      ],
      "source": [
        "float('56'+'78')\n"
      ]
    },
    {
      "cell_type": "code",
      "execution_count": null,
      "id": "5a8f3d70",
      "metadata": {
        "id": "5a8f3d70",
        "outputId": "8bac52d2-0eb2-4e68-c987-26769fd928be"
      },
      "outputs": [
        {
          "data": {
            "text/plain": [
              "-1"
            ]
          },
          "execution_count": 4,
          "metadata": {},
          "output_type": "execute_result"
        }
      ],
      "source": [
        " (1>3)-(1<3)\n"
      ]
    },
    {
      "cell_type": "code",
      "execution_count": null,
      "id": "1af7f9bf",
      "metadata": {
        "id": "1af7f9bf",
        "outputId": "804bb29b-e5d9-49b4-9e0d-90cd4fde7cc8"
      },
      "outputs": [
        {
          "data": {
            "text/plain": [
              "512"
            ]
          },
          "execution_count": 5,
          "metadata": {},
          "output_type": "execute_result"
        }
      ],
      "source": [
        " 2**(3**2)"
      ]
    },
    {
      "cell_type": "code",
      "execution_count": null,
      "id": "7e29bdbc",
      "metadata": {
        "id": "7e29bdbc",
        "outputId": "f0146038-eda8-481a-def9-229b23a20e71"
      },
      "outputs": [
        {
          "data": {
            "text/plain": [
              "64"
            ]
          },
          "execution_count": 6,
          "metadata": {},
          "output_type": "execute_result"
        }
      ],
      "source": [
        "(2**3)**2\n"
      ]
    },
    {
      "cell_type": "code",
      "execution_count": null,
      "id": "954bbc02",
      "metadata": {
        "id": "954bbc02",
        "outputId": "48aa2346-546d-4739-cb76-246df007f90b"
      },
      "outputs": [
        {
          "data": {
            "text/plain": [
              "512"
            ]
          },
          "execution_count": 7,
          "metadata": {},
          "output_type": "execute_result"
        }
      ],
      "source": [
        " 2**3**2"
      ]
    },
    {
      "cell_type": "code",
      "execution_count": null,
      "id": "37979577",
      "metadata": {
        "id": "37979577",
        "outputId": "bede4c11-5e42-422a-fa46-12184ef5d0e2"
      },
      "outputs": [
        {
          "data": {
            "text/plain": [
              "8.0"
            ]
          },
          "execution_count": 8,
          "metadata": {},
          "output_type": "execute_result"
        }
      ],
      "source": [
        "\tfloat(22//3+3/3)"
      ]
    },
    {
      "cell_type": "code",
      "execution_count": null,
      "id": "bde2feee",
      "metadata": {
        "id": "bde2feee",
        "outputId": "c48a7f64-2efc-49a8-fe23-147102e0eab4"
      },
      "outputs": [
        {
          "name": "stdout",
          "output_type": "stream",
          "text": [
            "3\n"
          ]
        }
      ],
      "source": [
        "\n",
        "_=3\n",
        "print(_)"
      ]
    },
    {
      "cell_type": "code",
      "execution_count": null,
      "id": "24e300d1",
      "metadata": {
        "id": "24e300d1"
      },
      "outputs": [],
      "source": [
        " abc = 1000000"
      ]
    },
    {
      "cell_type": "code",
      "execution_count": null,
      "id": "6676ed91",
      "metadata": {
        "id": "6676ed91",
        "outputId": "fc8525f5-6345-4e44-a828-2a1949d54465"
      },
      "outputs": [
        {
          "name": "stdout",
          "output_type": "stream",
          "text": [
            "1000000\n"
          ]
        }
      ],
      "source": [
        "print(abc)"
      ]
    },
    {
      "cell_type": "code",
      "execution_count": null,
      "id": "8d77aed0",
      "metadata": {
        "id": "8d77aed0"
      },
      "outputs": [],
      "source": [
        "a=12\n",
        "b=6"
      ]
    },
    {
      "cell_type": "code",
      "execution_count": null,
      "id": "ee23e775",
      "metadata": {
        "id": "ee23e775",
        "outputId": "20a497ee-9b04-4170-c0de-df94d1fdf67b"
      },
      "outputs": [
        {
          "name": "stdout",
          "output_type": "stream",
          "text": [
            "2.0\n"
          ]
        }
      ],
      "source": [
        "print(a/b)"
      ]
    },
    {
      "cell_type": "code",
      "execution_count": null,
      "id": "6f9dcda1",
      "metadata": {
        "id": "6f9dcda1",
        "outputId": "81e62151-3e9b-4ac0-a572-e126fc119607"
      },
      "outputs": [
        {
          "name": "stdout",
          "output_type": "stream",
          "text": [
            "1.7142857142857142\n"
          ]
        }
      ],
      "source": [
        "a=12\n",
        "b=7\n",
        "print(a/b)"
      ]
    },
    {
      "cell_type": "code",
      "execution_count": null,
      "id": "9ce8e62d",
      "metadata": {
        "id": "9ce8e62d",
        "outputId": "551f1d94-a77b-4231-f041-802c7ea81dbf"
      },
      "outputs": [
        {
          "name": "stdout",
          "output_type": "stream",
          "text": [
            "1\n"
          ]
        }
      ],
      "source": [
        "print(a//b)"
      ]
    },
    {
      "cell_type": "code",
      "execution_count": null,
      "id": "fb707a1b",
      "metadata": {
        "id": "fb707a1b",
        "outputId": "42037522-f713-4be5-a2e6-b40eb3e47135"
      },
      "outputs": [
        {
          "name": "stdout",
          "output_type": "stream",
          "text": [
            "35831808\n"
          ]
        }
      ],
      "source": [
        "print(a**b)"
      ]
    },
    {
      "cell_type": "code",
      "execution_count": null,
      "id": "79f63a5a",
      "metadata": {
        "id": "79f63a5a",
        "outputId": "36ea5758-6ce5-43bb-b921-49cff32eda00"
      },
      "outputs": [
        {
          "name": "stdout",
          "output_type": "stream",
          "text": [
            "8\n"
          ]
        }
      ],
      "source": [
        "print(2**3)"
      ]
    },
    {
      "cell_type": "code",
      "execution_count": null,
      "id": "b8265278",
      "metadata": {
        "id": "b8265278",
        "outputId": "af504ce7-e641-48d4-879d-2ac16d6c7ed6"
      },
      "outputs": [
        {
          "name": "stdout",
          "output_type": "stream",
          "text": [
            "10000000000\n"
          ]
        }
      ],
      "source": [
        "x=10\n",
        "x**=10#x=x**10\n",
        "print(x)"
      ]
    },
    {
      "cell_type": "code",
      "execution_count": null,
      "id": "d40abbfb",
      "metadata": {
        "id": "d40abbfb",
        "outputId": "5d4c0692-bea8-4681-927f-d6513e9be1fc"
      },
      "outputs": [
        {
          "name": "stdout",
          "output_type": "stream",
          "text": [
            "27\n"
          ]
        }
      ],
      "source": [
        "a=27\n",
        "b=2\n",
        "c= a | b\n",
        "print(c)"
      ]
    },
    {
      "cell_type": "code",
      "execution_count": null,
      "id": "0be931d6",
      "metadata": {
        "id": "0be931d6",
        "outputId": "16f7d2a4-4da8-4877-b421-9d2ddde79f07"
      },
      "outputs": [
        {
          "name": "stdout",
          "output_type": "stream",
          "text": [
            "108\n"
          ]
        }
      ],
      "source": [
        "c= a << b\n",
        "print(c)"
      ]
    },
    {
      "cell_type": "code",
      "execution_count": null,
      "id": "8c9ab849",
      "metadata": {
        "id": "8c9ab849",
        "outputId": "e864a4a0-3c8b-431c-f578-61023cf96e5e"
      },
      "outputs": [
        {
          "name": "stdout",
          "output_type": "stream",
          "text": [
            "6\n"
          ]
        }
      ],
      "source": [
        "c= a >> b\n",
        "print(c)"
      ]
    },
    {
      "cell_type": "code",
      "execution_count": null,
      "id": "82342103",
      "metadata": {
        "id": "82342103",
        "outputId": "1adef318-d292-4d3a-b1c6-b745ff2851e4"
      },
      "outputs": [
        {
          "data": {
            "text/plain": [
              "False"
            ]
          },
          "execution_count": 22,
          "metadata": {},
          "output_type": "execute_result"
        }
      ],
      "source": [
        "a==b"
      ]
    },
    {
      "cell_type": "code",
      "execution_count": null,
      "id": "d53e43de",
      "metadata": {
        "id": "d53e43de",
        "outputId": "766c76b6-b450-4c37-98d8-777aabaecd3c"
      },
      "outputs": [
        {
          "data": {
            "text/plain": [
              "True"
            ]
          },
          "execution_count": 23,
          "metadata": {},
          "output_type": "execute_result"
        }
      ],
      "source": [
        "a!=b"
      ]
    },
    {
      "cell_type": "code",
      "execution_count": null,
      "id": "d02df47d",
      "metadata": {
        "id": "d02df47d",
        "outputId": "38f25c91-3740-47f9-f4ed-d932cb0c1184"
      },
      "outputs": [
        {
          "name": "stdout",
          "output_type": "stream",
          "text": [
            "True\n"
          ]
        }
      ],
      "source": [
        "print(a>b)"
      ]
    },
    {
      "cell_type": "code",
      "execution_count": null,
      "id": "8e527d18",
      "metadata": {
        "id": "8e527d18",
        "outputId": "47968c0a-2b72-4863-bbc5-6632124a8365"
      },
      "outputs": [
        {
          "data": {
            "text/plain": [
              "False"
            ]
          },
          "execution_count": 25,
          "metadata": {},
          "output_type": "execute_result"
        }
      ],
      "source": [
        "a<b"
      ]
    },
    {
      "cell_type": "code",
      "execution_count": null,
      "id": "ed4e93a7",
      "metadata": {
        "id": "ed4e93a7",
        "outputId": "2a2f9068-156e-46f7-a8ee-50a6072bbd20"
      },
      "outputs": [
        {
          "data": {
            "text/plain": [
              "True"
            ]
          },
          "execution_count": 26,
          "metadata": {},
          "output_type": "execute_result"
        }
      ],
      "source": [
        "a>=b"
      ]
    },
    {
      "cell_type": "code",
      "execution_count": null,
      "id": "300eabce",
      "metadata": {
        "id": "300eabce",
        "outputId": "c2a0ac64-eb2a-4691-b4c3-23e70f962d52"
      },
      "outputs": [
        {
          "data": {
            "text/plain": [
              "False"
            ]
          },
          "execution_count": 27,
          "metadata": {},
          "output_type": "execute_result"
        }
      ],
      "source": [
        "a<=b"
      ]
    },
    {
      "cell_type": "code",
      "execution_count": null,
      "id": "d5524586",
      "metadata": {
        "id": "d5524586",
        "outputId": "8ef3cff0-7d42-4140-e372-04668375998c"
      },
      "outputs": [
        {
          "name": "stdout",
          "output_type": "stream",
          "text": [
            "A is the greatest number\n"
          ]
        }
      ],
      "source": [
        "a=12\n",
        "b=10\n",
        "c=3\n",
        "if(a>b and a>c):\n",
        "    print(\"A is the greatest number\")\n",
        "else:\n",
        "    print(\"not\")\n",
        ""
      ]
    },
    {
      "cell_type": "code",
      "execution_count": null,
      "id": "62acf1d6",
      "metadata": {
        "id": "62acf1d6",
        "outputId": "da7fddc9-0c28-4e20-b4c2-6a8d4ee5cc73"
      },
      "outputs": [
        {
          "name": "stdout",
          "output_type": "stream",
          "text": [
            "A is the greatest number\n"
          ]
        }
      ],
      "source": [
        "a=12\n",
        "b=14\n",
        "c=3\n",
        "if(a>b or a>c):\n",
        "    print(\"A is the greatest number\")\n",
        "else:\n",
        "    print(\"not\")"
      ]
    },
    {
      "cell_type": "code",
      "execution_count": null,
      "id": "3e29a0c3",
      "metadata": {
        "id": "3e29a0c3"
      },
      "outputs": [],
      "source": []
    },
    {
      "cell_type": "code",
      "execution_count": null,
      "id": "8eb77bb4",
      "metadata": {
        "id": "8eb77bb4",
        "outputId": "2bfbc79f-20a3-4421-d6d0-9a63953527f5"
      },
      "outputs": [
        {
          "name": "stdout",
          "output_type": "stream",
          "text": [
            "False\n"
          ]
        }
      ],
      "source": [
        "a = 10\n",
        "\n",
        "if not a:\n",
        "    print(\"This will return True\")\n",
        "else:\n",
        "    print(\"False\")"
      ]
    },
    {
      "cell_type": "code",
      "execution_count": null,
      "id": "c29c510a",
      "metadata": {
        "id": "c29c510a",
        "outputId": "8a244f19-6aba-4e97-fec5-c1114bcdd1ac"
      },
      "outputs": [
        {
          "name": "stdout",
          "output_type": "stream",
          "text": [
            "10 is not divisible by either 3 or 5\n"
          ]
        }
      ],
      "source": [
        "if (a%3 == 0 or a%5 == 0):\n",
        "    print(\"10 is not divisible by either 3 or 5\")\n",
        "else:\n",
        "    print(\"10 is divisible by either 3 or 5\")"
      ]
    },
    {
      "cell_type": "code",
      "execution_count": null,
      "id": "d6b04364",
      "metadata": {
        "id": "d6b04364",
        "outputId": "61c21ba5-004b-4f3e-ed2f-f3a0a44ed4f9"
      },
      "outputs": [
        {
          "name": "stdout",
          "output_type": "stream",
          "text": [
            "Enter Name12\n",
            "This is my Name 12\n"
          ]
        }
      ],
      "source": [
        "a=int(input(\"Enter Name\"))\n",
        "print(\"This is my Name\",a)"
      ]
    },
    {
      "cell_type": "code",
      "execution_count": null,
      "id": "0cff250a",
      "metadata": {
        "id": "0cff250a"
      },
      "outputs": [],
      "source": []
    }
  ],
  "metadata": {
    "kernelspec": {
      "display_name": "Python 3 (ipykernel)",
      "language": "python",
      "name": "python3"
    },
    "language_info": {
      "codemirror_mode": {
        "name": "ipython",
        "version": 3
      },
      "file_extension": ".py",
      "mimetype": "text/x-python",
      "name": "python",
      "nbconvert_exporter": "python",
      "pygments_lexer": "ipython3",
      "version": "3.9.12"
    },
    "colab": {
      "provenance": []
    }
  },
  "nbformat": 4,
  "nbformat_minor": 5
}