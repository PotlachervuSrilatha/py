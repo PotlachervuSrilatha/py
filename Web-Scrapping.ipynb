{
 "cells": [
  {
   "cell_type": "code",
   "execution_count": 1,
   "id": "29281b28",
   "metadata": {},
   "outputs": [],
   "source": [
    "import pandas as pd\n",
    "import requests \n",
    "from bs4 import BeautifulSoup\n",
    "# Pull out data which is in form of html & xtml file \n",
    "# uses tree to extract data"
   ]
  },
  {
   "cell_type": "code",
   "execution_count": 2,
   "id": "2ad88a98",
   "metadata": {},
   "outputs": [],
   "source": [
    "url = \"https://www.flipkart.com/search?q=phones+under+15000+&otracker=search&otracker1=search&marketplace=FLIPKART&as-show=on&as=off&page=1\""
   ]
  },
  {
   "cell_type": "code",
   "execution_count": 3,
   "id": "ad6ad0a9",
   "metadata": {},
   "outputs": [
    {
     "name": "stdout",
     "output_type": "stream",
     "text": [
      "<Response [429]>\n"
     ]
    }
   ],
   "source": [
    "r = requests.get(url)\n",
    "print(r) \n",
    "# 200 made first request "
   ]
  },
  {
   "cell_type": "code",
   "execution_count": 4,
   "id": "83ad68c2",
   "metadata": {},
   "outputs": [
    {
     "data": {
      "text/plain": [
       "<Response [429]>"
      ]
     },
     "execution_count": 4,
     "metadata": {},
     "output_type": "execute_result"
    }
   ],
   "source": [
    "r"
   ]
  },
  {
   "cell_type": "code",
   "execution_count": 5,
   "id": "a57d9359",
   "metadata": {},
   "outputs": [],
   "source": [
    "soup = BeautifulSoup(r.text,\"lxml\")"
   ]
  },
  {
   "cell_type": "code",
   "execution_count": 6,
   "id": "9077ac91",
   "metadata": {},
   "outputs": [],
   "source": [
    "Product_name = []\n",
    "Price = []\n",
    "Description = []\n",
    "Reviews = []\n",
    "\n",
    "for i in range(2,5):\n",
    "    url =\" https://www.flipkart.com/search?q=phones+under+15000+&otracker=search&otracker1=search&marketplace=FLIPKART&as-show=on&as=off&page=\" + str(i)\n",
    "    r = requests.get(url)\n",
    "    soup = BeautifulSoup(r.text,\"lxml\")\n",
    "    Box = soup.find(\"div\", class_= \"_1YokD2 _3Mn1Gg\")\n",
    "    names = Box.find_all(\"div\",class_ = \"_4rR01T\")\n",
    "    for i in names:\n",
    "        n = i.text\n",
    "        Product_name.append(n)   \n",
    "    prices = Box.find_all(\"div\",class_ = \"_30jeq3 _1_WHN1\")\n",
    "    for i in prices:\n",
    "        p = i.text\n",
    "        Price.append(p)  \n",
    "    reviews = Box.find_all(\"div\",class_ = \"_3LWZlK\")\n",
    "    for i in reviews:\n",
    "        re = i.text\n",
    "        Reviews.append(re)  \n",
    "    descriptions = Box.find_all(\"div\",class_ = \"fMghEO\")\n",
    "    for i in descriptions:\n",
    "        d = i.text\n",
    "        Description.append(d)\n",
    "    \n",
    "    "
   ]
  },
  {
   "cell_type": "code",
   "execution_count": 7,
   "id": "3f79d4e4",
   "metadata": {},
   "outputs": [],
   "source": [
    "df = pd.DataFrame({\"Product_Name\": Product_name, \"Price\": Price, \"Reviews\":Reviews,\"Description\": Description})"
   ]
  },
  {
   "cell_type": "code",
   "execution_count": 8,
   "id": "b8a88a71",
   "metadata": {},
   "outputs": [
    {
     "data": {
      "text/html": [
       "<div>\n",
       "<style scoped>\n",
       "    .dataframe tbody tr th:only-of-type {\n",
       "        vertical-align: middle;\n",
       "    }\n",
       "\n",
       "    .dataframe tbody tr th {\n",
       "        vertical-align: top;\n",
       "    }\n",
       "\n",
       "    .dataframe thead th {\n",
       "        text-align: right;\n",
       "    }\n",
       "</style>\n",
       "<table border=\"1\" class=\"dataframe\">\n",
       "  <thead>\n",
       "    <tr style=\"text-align: right;\">\n",
       "      <th></th>\n",
       "      <th>Product_Name</th>\n",
       "      <th>Price</th>\n",
       "      <th>Reviews</th>\n",
       "      <th>Description</th>\n",
       "    </tr>\n",
       "  </thead>\n",
       "  <tbody>\n",
       "    <tr>\n",
       "      <th>0</th>\n",
       "      <td>OPPO A17k (Blue, 64 GB)</td>\n",
       "      <td>₹8,999</td>\n",
       "      <td>4.5</td>\n",
       "      <td>3 GB RAM | 64 GB ROM | Expandable Upto 2 TB16....</td>\n",
       "    </tr>\n",
       "    <tr>\n",
       "      <th>1</th>\n",
       "      <td>Infinix HOT 30 5G (Miami Orange, 128 GB)</td>\n",
       "      <td>₹11,499</td>\n",
       "      <td>4.1</td>\n",
       "      <td>4 GB RAM | 128 GB ROM | Expandable Upto 1 TB17...</td>\n",
       "    </tr>\n",
       "    <tr>\n",
       "      <th>2</th>\n",
       "      <td>realme C55 (Sunshower, 64 GB)</td>\n",
       "      <td>₹9,999</td>\n",
       "      <td>4.4</td>\n",
       "      <td>4 GB RAM | 64 GB ROM | Expandable Upto 1 TB17....</td>\n",
       "    </tr>\n",
       "    <tr>\n",
       "      <th>3</th>\n",
       "      <td>OPPO A17k (Navy Blue, 64 GB)</td>\n",
       "      <td>₹8,999</td>\n",
       "      <td>4.5</td>\n",
       "      <td>3 GB RAM | 64 GB ROM | Expandable Upto 2 TB16....</td>\n",
       "    </tr>\n",
       "    <tr>\n",
       "      <th>4</th>\n",
       "      <td>POCO C55 (Cool Blue, 128 GB)</td>\n",
       "      <td>₹10,999</td>\n",
       "      <td>4.1</td>\n",
       "      <td>6 GB RAM | 128 GB ROM | Expandable Upto 1 TB17...</td>\n",
       "    </tr>\n",
       "  </tbody>\n",
       "</table>\n",
       "</div>"
      ],
      "text/plain": [
       "                               Product_Name    Price Reviews  \\\n",
       "0                   OPPO A17k (Blue, 64 GB)   ₹8,999     4.5   \n",
       "1  Infinix HOT 30 5G (Miami Orange, 128 GB)  ₹11,499     4.1   \n",
       "2             realme C55 (Sunshower, 64 GB)   ₹9,999     4.4   \n",
       "3              OPPO A17k (Navy Blue, 64 GB)   ₹8,999     4.5   \n",
       "4              POCO C55 (Cool Blue, 128 GB)  ₹10,999     4.1   \n",
       "\n",
       "                                         Description  \n",
       "0  3 GB RAM | 64 GB ROM | Expandable Upto 2 TB16....  \n",
       "1  4 GB RAM | 128 GB ROM | Expandable Upto 1 TB17...  \n",
       "2  4 GB RAM | 64 GB ROM | Expandable Upto 1 TB17....  \n",
       "3  3 GB RAM | 64 GB ROM | Expandable Upto 2 TB16....  \n",
       "4  6 GB RAM | 128 GB ROM | Expandable Upto 1 TB17...  "
      ]
     },
     "execution_count": 8,
     "metadata": {},
     "output_type": "execute_result"
    }
   ],
   "source": [
    "df.head()"
   ]
  },
  {
   "cell_type": "code",
   "execution_count": 17,
   "id": "e0d49f7e",
   "metadata": {},
   "outputs": [],
   "source": [
    "df.to_csv(\"C:/Users/admin/Downloads/Flipkart_mobile_under15k.csv\")"
   ]
  },
  {
   "cell_type": "code",
   "execution_count": null,
   "id": "0f37abeb",
   "metadata": {},
   "outputs": [],
   "source": []
  }
 ],
 "metadata": {
  "kernelspec": {
   "display_name": "Python 3 (ipykernel)",
   "language": "python",
   "name": "python3"
  },
  "language_info": {
   "codemirror_mode": {
    "name": "ipython",
    "version": 3
   },
   "file_extension": ".py",
   "mimetype": "text/x-python",
   "name": "python",
   "nbconvert_exporter": "python",
   "pygments_lexer": "ipython3",
   "version": "3.10.9"
  }
 },
 "nbformat": 4,
 "nbformat_minor": 5
}
